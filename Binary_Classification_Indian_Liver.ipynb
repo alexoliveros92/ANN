{
  "nbformat": 4,
  "nbformat_minor": 0,
  "metadata": {
    "colab": {
      "provenance": [],
      "authorship_tag": "ABX9TyO7JG/TW4unquWInKUv+c+p",
      "include_colab_link": true
    },
    "kernelspec": {
      "name": "python3",
      "display_name": "Python 3"
    },
    "language_info": {
      "name": "python"
    }
  },
  "cells": [
    {
      "cell_type": "markdown",
      "metadata": {
        "id": "view-in-github",
        "colab_type": "text"
      },
      "source": [
        "<a href=\"https://colab.research.google.com/github/alexoliveros92/ANN/blob/main/Binary_Classification_Indian_Liver.ipynb\" target=\"_parent\"><img src=\"https://colab.research.google.com/assets/colab-badge.svg\" alt=\"Open In Colab\"/></a>"
      ]
    },
    {
      "cell_type": "code",
      "execution_count": 12,
      "metadata": {
        "id": "EfbMAtYxMTtJ"
      },
      "outputs": [],
      "source": [
        "import pandas as pd\n",
        "import matplotlib.pyplot as plt\n",
        "import numpy as np\n",
        "from sklearn.model_selection import train_test_split\n",
        "from tensorflow.python.keras.models import Sequential\n",
        "from tensorflow.python.keras.layers import Dense\n",
        "from sklearn.linear_model import LogisticRegression\n",
        "from sklearn.metrics import confusion_matrix\n",
        "from sklearn.metrics import classification_report\n",
        "from sklearn.naive_bayes import GaussianNB\n",
        "from sklearn.svm import SVC\n",
        "from sklearn.tree import DecisionTreeClassifier\n",
        "from sklearn.ensemble import RandomForestClassifier\n",
        "from imblearn.over_sampling import SMOTE"
      ]
    },
    {
      "cell_type": "code",
      "source": [
        "col_names=['preg','plas','pres','skin','test','mass','pedi','age','class']\n",
        "data=pd.read_csv('/content/Indian Liver Patient Dataset (ILPD).csv',names=col_names)\n",
        "data\n",
        "data = data.drop(data.index[[0]])\n",
        "data.head(9)\n",
        "#data.info()"
      ],
      "metadata": {
        "colab": {
          "base_uri": "https://localhost:8080/",
          "height": 331
        },
        "id": "tk1MV5bZM1XO",
        "outputId": "2e21c95f-beec-4d01-bd8c-3c397e1f0960"
      },
      "execution_count": 3,
      "outputs": [
        {
          "output_type": "execute_result",
          "data": {
            "text/plain": [
              "      preg plas pres skin test mass pedi   age class\n",
              "65 0   0.7  0.1  187   16   18  6.8  3.3   0.9     1\n",
              "62 1  10.9  5.5  699   64  100  7.5  3.2  0.74     1\n",
              "   1   7.3  4.1  490   60   68    7  3.3  0.89     1\n",
              "58 1     1  0.4  182   14   20  6.8  3.4     1     1\n",
              "72 1   3.9    2  195   27   59  7.3  2.4   0.4     1\n",
              "46 1   1.8  0.7  208   19   14  7.6  4.4   1.3     1\n",
              "26 0   0.9  0.2  154   16   12    7  3.5     1     1\n",
              "29 0   0.9  0.3  202   14   11  6.7  3.6   1.1     1\n",
              "17 1   0.9  0.3  202   22   19  7.4  4.1   1.2     2"
            ],
            "text/html": [
              "\n",
              "  <div id=\"df-e13eca5b-1994-482f-952d-3f1b5fc4d055\">\n",
              "    <div class=\"colab-df-container\">\n",
              "      <div>\n",
              "<style scoped>\n",
              "    .dataframe tbody tr th:only-of-type {\n",
              "        vertical-align: middle;\n",
              "    }\n",
              "\n",
              "    .dataframe tbody tr th {\n",
              "        vertical-align: top;\n",
              "    }\n",
              "\n",
              "    .dataframe thead th {\n",
              "        text-align: right;\n",
              "    }\n",
              "</style>\n",
              "<table border=\"1\" class=\"dataframe\">\n",
              "  <thead>\n",
              "    <tr style=\"text-align: right;\">\n",
              "      <th></th>\n",
              "      <th></th>\n",
              "      <th>preg</th>\n",
              "      <th>plas</th>\n",
              "      <th>pres</th>\n",
              "      <th>skin</th>\n",
              "      <th>test</th>\n",
              "      <th>mass</th>\n",
              "      <th>pedi</th>\n",
              "      <th>age</th>\n",
              "      <th>class</th>\n",
              "    </tr>\n",
              "  </thead>\n",
              "  <tbody>\n",
              "    <tr>\n",
              "      <th>65</th>\n",
              "      <th>0</th>\n",
              "      <td>0.7</td>\n",
              "      <td>0.1</td>\n",
              "      <td>187</td>\n",
              "      <td>16</td>\n",
              "      <td>18</td>\n",
              "      <td>6.8</td>\n",
              "      <td>3.3</td>\n",
              "      <td>0.9</td>\n",
              "      <td>1</td>\n",
              "    </tr>\n",
              "    <tr>\n",
              "      <th rowspan=\"2\" valign=\"top\">62</th>\n",
              "      <th>1</th>\n",
              "      <td>10.9</td>\n",
              "      <td>5.5</td>\n",
              "      <td>699</td>\n",
              "      <td>64</td>\n",
              "      <td>100</td>\n",
              "      <td>7.5</td>\n",
              "      <td>3.2</td>\n",
              "      <td>0.74</td>\n",
              "      <td>1</td>\n",
              "    </tr>\n",
              "    <tr>\n",
              "      <th>1</th>\n",
              "      <td>7.3</td>\n",
              "      <td>4.1</td>\n",
              "      <td>490</td>\n",
              "      <td>60</td>\n",
              "      <td>68</td>\n",
              "      <td>7</td>\n",
              "      <td>3.3</td>\n",
              "      <td>0.89</td>\n",
              "      <td>1</td>\n",
              "    </tr>\n",
              "    <tr>\n",
              "      <th>58</th>\n",
              "      <th>1</th>\n",
              "      <td>1</td>\n",
              "      <td>0.4</td>\n",
              "      <td>182</td>\n",
              "      <td>14</td>\n",
              "      <td>20</td>\n",
              "      <td>6.8</td>\n",
              "      <td>3.4</td>\n",
              "      <td>1</td>\n",
              "      <td>1</td>\n",
              "    </tr>\n",
              "    <tr>\n",
              "      <th>72</th>\n",
              "      <th>1</th>\n",
              "      <td>3.9</td>\n",
              "      <td>2</td>\n",
              "      <td>195</td>\n",
              "      <td>27</td>\n",
              "      <td>59</td>\n",
              "      <td>7.3</td>\n",
              "      <td>2.4</td>\n",
              "      <td>0.4</td>\n",
              "      <td>1</td>\n",
              "    </tr>\n",
              "    <tr>\n",
              "      <th>46</th>\n",
              "      <th>1</th>\n",
              "      <td>1.8</td>\n",
              "      <td>0.7</td>\n",
              "      <td>208</td>\n",
              "      <td>19</td>\n",
              "      <td>14</td>\n",
              "      <td>7.6</td>\n",
              "      <td>4.4</td>\n",
              "      <td>1.3</td>\n",
              "      <td>1</td>\n",
              "    </tr>\n",
              "    <tr>\n",
              "      <th>26</th>\n",
              "      <th>0</th>\n",
              "      <td>0.9</td>\n",
              "      <td>0.2</td>\n",
              "      <td>154</td>\n",
              "      <td>16</td>\n",
              "      <td>12</td>\n",
              "      <td>7</td>\n",
              "      <td>3.5</td>\n",
              "      <td>1</td>\n",
              "      <td>1</td>\n",
              "    </tr>\n",
              "    <tr>\n",
              "      <th>29</th>\n",
              "      <th>0</th>\n",
              "      <td>0.9</td>\n",
              "      <td>0.3</td>\n",
              "      <td>202</td>\n",
              "      <td>14</td>\n",
              "      <td>11</td>\n",
              "      <td>6.7</td>\n",
              "      <td>3.6</td>\n",
              "      <td>1.1</td>\n",
              "      <td>1</td>\n",
              "    </tr>\n",
              "    <tr>\n",
              "      <th>17</th>\n",
              "      <th>1</th>\n",
              "      <td>0.9</td>\n",
              "      <td>0.3</td>\n",
              "      <td>202</td>\n",
              "      <td>22</td>\n",
              "      <td>19</td>\n",
              "      <td>7.4</td>\n",
              "      <td>4.1</td>\n",
              "      <td>1.2</td>\n",
              "      <td>2</td>\n",
              "    </tr>\n",
              "  </tbody>\n",
              "</table>\n",
              "</div>\n",
              "      <button class=\"colab-df-convert\" onclick=\"convertToInteractive('df-e13eca5b-1994-482f-952d-3f1b5fc4d055')\"\n",
              "              title=\"Convert this dataframe to an interactive table.\"\n",
              "              style=\"display:none;\">\n",
              "        \n",
              "  <svg xmlns=\"http://www.w3.org/2000/svg\" height=\"24px\"viewBox=\"0 0 24 24\"\n",
              "       width=\"24px\">\n",
              "    <path d=\"M0 0h24v24H0V0z\" fill=\"none\"/>\n",
              "    <path d=\"M18.56 5.44l.94 2.06.94-2.06 2.06-.94-2.06-.94-.94-2.06-.94 2.06-2.06.94zm-11 1L8.5 8.5l.94-2.06 2.06-.94-2.06-.94L8.5 2.5l-.94 2.06-2.06.94zm10 10l.94 2.06.94-2.06 2.06-.94-2.06-.94-.94-2.06-.94 2.06-2.06.94z\"/><path d=\"M17.41 7.96l-1.37-1.37c-.4-.4-.92-.59-1.43-.59-.52 0-1.04.2-1.43.59L10.3 9.45l-7.72 7.72c-.78.78-.78 2.05 0 2.83L4 21.41c.39.39.9.59 1.41.59.51 0 1.02-.2 1.41-.59l7.78-7.78 2.81-2.81c.8-.78.8-2.07 0-2.86zM5.41 20L4 18.59l7.72-7.72 1.47 1.35L5.41 20z\"/>\n",
              "  </svg>\n",
              "      </button>\n",
              "      \n",
              "  <style>\n",
              "    .colab-df-container {\n",
              "      display:flex;\n",
              "      flex-wrap:wrap;\n",
              "      gap: 12px;\n",
              "    }\n",
              "\n",
              "    .colab-df-convert {\n",
              "      background-color: #E8F0FE;\n",
              "      border: none;\n",
              "      border-radius: 50%;\n",
              "      cursor: pointer;\n",
              "      display: none;\n",
              "      fill: #1967D2;\n",
              "      height: 32px;\n",
              "      padding: 0 0 0 0;\n",
              "      width: 32px;\n",
              "    }\n",
              "\n",
              "    .colab-df-convert:hover {\n",
              "      background-color: #E2EBFA;\n",
              "      box-shadow: 0px 1px 2px rgba(60, 64, 67, 0.3), 0px 1px 3px 1px rgba(60, 64, 67, 0.15);\n",
              "      fill: #174EA6;\n",
              "    }\n",
              "\n",
              "    [theme=dark] .colab-df-convert {\n",
              "      background-color: #3B4455;\n",
              "      fill: #D2E3FC;\n",
              "    }\n",
              "\n",
              "    [theme=dark] .colab-df-convert:hover {\n",
              "      background-color: #434B5C;\n",
              "      box-shadow: 0px 1px 3px 1px rgba(0, 0, 0, 0.15);\n",
              "      filter: drop-shadow(0px 1px 2px rgba(0, 0, 0, 0.3));\n",
              "      fill: #FFFFFF;\n",
              "    }\n",
              "  </style>\n",
              "\n",
              "      <script>\n",
              "        const buttonEl =\n",
              "          document.querySelector('#df-e13eca5b-1994-482f-952d-3f1b5fc4d055 button.colab-df-convert');\n",
              "        buttonEl.style.display =\n",
              "          google.colab.kernel.accessAllowed ? 'block' : 'none';\n",
              "\n",
              "        async function convertToInteractive(key) {\n",
              "          const element = document.querySelector('#df-e13eca5b-1994-482f-952d-3f1b5fc4d055');\n",
              "          const dataTable =\n",
              "            await google.colab.kernel.invokeFunction('convertToInteractive',\n",
              "                                                     [key], {});\n",
              "          if (!dataTable) return;\n",
              "\n",
              "          const docLinkHtml = 'Like what you see? Visit the ' +\n",
              "            '<a target=\"_blank\" href=https://colab.research.google.com/notebooks/data_table.ipynb>data table notebook</a>'\n",
              "            + ' to learn more about interactive tables.';\n",
              "          element.innerHTML = '';\n",
              "          dataTable['output_type'] = 'display_data';\n",
              "          await google.colab.output.renderOutput(dataTable, element);\n",
              "          const docLink = document.createElement('div');\n",
              "          docLink.innerHTML = docLinkHtml;\n",
              "          element.appendChild(docLink);\n",
              "        }\n",
              "      </script>\n",
              "    </div>\n",
              "  </div>\n",
              "  "
            ]
          },
          "metadata": {},
          "execution_count": 3
        }
      ]
    },
    {
      "cell_type": "code",
      "source": [
        "convert_dict = {'preg': float,\n",
        "                'plas': float,\n",
        "                'pres':float,                \n",
        "                'skin':float,\n",
        "                'test':float,\n",
        "                'mass':float,\n",
        "                'pedi':float,\n",
        "                'age':float,\n",
        "                'class':float\n",
        "               }\n",
        "data = data.astype(convert_dict)\n",
        "data.info()"
      ],
      "metadata": {
        "id": "1hI3CR8bM9S8",
        "colab": {
          "base_uri": "https://localhost:8080/"
        },
        "outputId": "7de7272e-e151-41f9-c474-eb4065f5faae"
      },
      "execution_count": 4,
      "outputs": [
        {
          "output_type": "stream",
          "name": "stdout",
          "text": [
            "<class 'pandas.core.frame.DataFrame'>\n",
            "MultiIndex: 583 entries, ('65', '0') to ('38', '1')\n",
            "Data columns (total 9 columns):\n",
            " #   Column  Non-Null Count  Dtype  \n",
            "---  ------  --------------  -----  \n",
            " 0   preg    583 non-null    float64\n",
            " 1   plas    583 non-null    float64\n",
            " 2   pres    583 non-null    float64\n",
            " 3   skin    583 non-null    float64\n",
            " 4   test    583 non-null    float64\n",
            " 5   mass    583 non-null    float64\n",
            " 6   pedi    583 non-null    float64\n",
            " 7   age     583 non-null    float64\n",
            " 8   class   583 non-null    float64\n",
            "dtypes: float64(9)\n",
            "memory usage: 44.9+ KB\n"
          ]
        }
      ]
    },
    {
      "cell_type": "code",
      "source": [
        "import numpy as np\n",
        "data.test.replace(0,np.nan, inplace=True)\n",
        "data.mass.replace(0,np.nan, inplace=True)\n",
        "data.pedi.replace(0,np.nan, inplace=True)\n",
        "data.info()"
      ],
      "metadata": {
        "id": "lkNwVDZ8OPGd",
        "colab": {
          "base_uri": "https://localhost:8080/"
        },
        "outputId": "fe710842-518c-4715-b4ba-0e9d33c49e75"
      },
      "execution_count": 5,
      "outputs": [
        {
          "output_type": "stream",
          "name": "stdout",
          "text": [
            "<class 'pandas.core.frame.DataFrame'>\n",
            "MultiIndex: 583 entries, ('65', '0') to ('38', '1')\n",
            "Data columns (total 9 columns):\n",
            " #   Column  Non-Null Count  Dtype  \n",
            "---  ------  --------------  -----  \n",
            " 0   preg    583 non-null    float64\n",
            " 1   plas    583 non-null    float64\n",
            " 2   pres    583 non-null    float64\n",
            " 3   skin    583 non-null    float64\n",
            " 4   test    583 non-null    float64\n",
            " 5   mass    583 non-null    float64\n",
            " 6   pedi    583 non-null    float64\n",
            " 7   age     583 non-null    float64\n",
            " 8   class   583 non-null    float64\n",
            "dtypes: float64(9)\n",
            "memory usage: 44.9+ KB\n"
          ]
        }
      ]
    },
    {
      "cell_type": "code",
      "source": [
        "from sklearn.impute import SimpleImputer as imp\n",
        "\n",
        "imput = imp(missing_values=np.nan, strategy='mean')\n",
        "imput.fit(data)\n",
        "X1 = imput.transform(data)\n",
        "#np.set_printoptions(precision=3)\n",
        "X1[0:5,:]"
      ],
      "metadata": {
        "id": "RaUWNl4fOV3F",
        "colab": {
          "base_uri": "https://localhost:8080/"
        },
        "outputId": "fe54bd3d-4285-4944-b2ed-13e7c12fc2cc"
      },
      "execution_count": 7,
      "outputs": [
        {
          "output_type": "execute_result",
          "data": {
            "text/plain": [
              "array([[7.00e-01, 1.00e-01, 1.87e+02, 1.60e+01, 1.80e+01, 6.80e+00,\n",
              "        3.30e+00, 9.00e-01, 1.00e+00],\n",
              "       [1.09e+01, 5.50e+00, 6.99e+02, 6.40e+01, 1.00e+02, 7.50e+00,\n",
              "        3.20e+00, 7.40e-01, 1.00e+00],\n",
              "       [7.30e+00, 4.10e+00, 4.90e+02, 6.00e+01, 6.80e+01, 7.00e+00,\n",
              "        3.30e+00, 8.90e-01, 1.00e+00],\n",
              "       [1.00e+00, 4.00e-01, 1.82e+02, 1.40e+01, 2.00e+01, 6.80e+00,\n",
              "        3.40e+00, 1.00e+00, 1.00e+00],\n",
              "       [3.90e+00, 2.00e+00, 1.95e+02, 2.70e+01, 5.90e+01, 7.30e+00,\n",
              "        2.40e+00, 4.00e-01, 1.00e+00]])"
            ]
          },
          "metadata": {},
          "execution_count": 7
        }
      ]
    },
    {
      "cell_type": "code",
      "source": [
        "df = pd.DataFrame(data=X1, columns=['preg','plas','pres','skin','test','mass','pedi','age','class'])\n",
        "X= df.drop('class', axis=1)\n",
        "#print(X)\n",
        "Y=df['class']\n",
        "Y=Y.values.reshape(-1,1)"
      ],
      "metadata": {
        "id": "LN0KvsgYOfBv"
      },
      "execution_count": 8,
      "outputs": []
    },
    {
      "cell_type": "code",
      "source": [
        "X_train, X_test, y_train, y_test = train_test_split(X, Y, test_size=0.20, random_state = 101)"
      ],
      "metadata": {
        "id": "PoPNqFPu4tpZ"
      },
      "execution_count": 11,
      "outputs": []
    },
    {
      "cell_type": "markdown",
      "source": [
        "#Logistic regression\n"
      ],
      "metadata": {
        "id": "BNTefNRe5R3b"
      }
    },
    {
      "cell_type": "code",
      "source": [
        "model = LogisticRegression(random_state = 42, max_iter = 10000)\n",
        "model.fit(X_train,y_train)\n",
        "model.score(X_test, y_test)"
      ],
      "metadata": {
        "colab": {
          "base_uri": "https://localhost:8080/"
        },
        "id": "AK77mVRw4-Gn",
        "outputId": "936e30eb-719c-4ed9-b189-8fae8f5fa70c"
      },
      "execution_count": 13,
      "outputs": [
        {
          "output_type": "stream",
          "name": "stderr",
          "text": [
            "/usr/local/lib/python3.10/dist-packages/sklearn/utils/validation.py:1143: DataConversionWarning: A column-vector y was passed when a 1d array was expected. Please change the shape of y to (n_samples, ), for example using ravel().\n",
            "  y = column_or_1d(y, warn=True)\n"
          ]
        },
        {
          "output_type": "execute_result",
          "data": {
            "text/plain": [
              "0.7008547008547008"
            ]
          },
          "metadata": {},
          "execution_count": 13
        }
      ]
    },
    {
      "cell_type": "code",
      "source": [
        "y_pred = model.predict(X_test)\n",
        "print(confusion_matrix(y_test,y_pred))\n",
        "print(classification_report(y_test, y_pred))"
      ],
      "metadata": {
        "colab": {
          "base_uri": "https://localhost:8080/"
        },
        "id": "jh83aH4g5N79",
        "outputId": "cf8524b3-8188-4368-d8e6-2567b7f1e26d"
      },
      "execution_count": 14,
      "outputs": [
        {
          "output_type": "stream",
          "name": "stdout",
          "text": [
            "[[76  8]\n",
            " [27  6]]\n",
            "              precision    recall  f1-score   support\n",
            "\n",
            "         1.0       0.74      0.90      0.81        84\n",
            "         2.0       0.43      0.18      0.26        33\n",
            "\n",
            "    accuracy                           0.70       117\n",
            "   macro avg       0.58      0.54      0.53       117\n",
            "weighted avg       0.65      0.70      0.66       117\n",
            "\n"
          ]
        }
      ]
    },
    {
      "cell_type": "markdown",
      "source": [
        "#GaussianNB classifier"
      ],
      "metadata": {
        "id": "uXx1HBVI5cjf"
      }
    },
    {
      "cell_type": "code",
      "source": [
        "clf = GaussianNB()\n",
        "clf.fit(X_train, y_train)\n",
        "clf.score(X_test, y_test)"
      ],
      "metadata": {
        "colab": {
          "base_uri": "https://localhost:8080/"
        },
        "id": "wZ37pe285X1H",
        "outputId": "b01b3d6a-733d-43ef-bcc1-b949b5dc2f1b"
      },
      "execution_count": 15,
      "outputs": [
        {
          "output_type": "stream",
          "name": "stderr",
          "text": [
            "/usr/local/lib/python3.10/dist-packages/sklearn/utils/validation.py:1143: DataConversionWarning: A column-vector y was passed when a 1d array was expected. Please change the shape of y to (n_samples, ), for example using ravel().\n",
            "  y = column_or_1d(y, warn=True)\n"
          ]
        },
        {
          "output_type": "execute_result",
          "data": {
            "text/plain": [
              "0.5213675213675214"
            ]
          },
          "metadata": {},
          "execution_count": 15
        }
      ]
    },
    {
      "cell_type": "code",
      "source": [
        "y_pred = clf.predict(X_test)\n",
        "print(confusion_matrix(y_test,y_pred))\n",
        "print(classification_report(y_test, y_pred))"
      ],
      "metadata": {
        "colab": {
          "base_uri": "https://localhost:8080/"
        },
        "id": "ZkpIUG035Zz5",
        "outputId": "3224d216-316c-4a0c-a3be-8b75aa7576a1"
      },
      "execution_count": 16,
      "outputs": [
        {
          "output_type": "stream",
          "name": "stdout",
          "text": [
            "[[30 54]\n",
            " [ 2 31]]\n",
            "              precision    recall  f1-score   support\n",
            "\n",
            "         1.0       0.94      0.36      0.52        84\n",
            "         2.0       0.36      0.94      0.53        33\n",
            "\n",
            "    accuracy                           0.52       117\n",
            "   macro avg       0.65      0.65      0.52       117\n",
            "weighted avg       0.78      0.52      0.52       117\n",
            "\n"
          ]
        }
      ]
    },
    {
      "cell_type": "markdown",
      "source": [
        "#Support vector classifier"
      ],
      "metadata": {
        "id": "HGa4evx35jtJ"
      }
    },
    {
      "cell_type": "code",
      "source": [
        "svc = SVC(gamma='auto')\n",
        "svc.fit(X_train, y_train)\n",
        "svc.score(X_test, y_test)"
      ],
      "metadata": {
        "colab": {
          "base_uri": "https://localhost:8080/"
        },
        "id": "-Auga2jd5dyt",
        "outputId": "f3e7072f-49e2-4386-93b2-d0de28794e9b"
      },
      "execution_count": 17,
      "outputs": [
        {
          "output_type": "stream",
          "name": "stderr",
          "text": [
            "/usr/local/lib/python3.10/dist-packages/sklearn/utils/validation.py:1143: DataConversionWarning: A column-vector y was passed when a 1d array was expected. Please change the shape of y to (n_samples, ), for example using ravel().\n",
            "  y = column_or_1d(y, warn=True)\n"
          ]
        },
        {
          "output_type": "execute_result",
          "data": {
            "text/plain": [
              "0.7435897435897436"
            ]
          },
          "metadata": {},
          "execution_count": 17
        }
      ]
    },
    {
      "cell_type": "code",
      "source": [
        "y_pred = svc.predict(X_test)\n",
        "print(confusion_matrix(y_test,y_pred))\n",
        "print(classification_report(y_test, y_pred))"
      ],
      "metadata": {
        "colab": {
          "base_uri": "https://localhost:8080/"
        },
        "id": "056dq_VO5hR9",
        "outputId": "8349cb00-fc74-4d99-c757-2140ab3ef02d"
      },
      "execution_count": 18,
      "outputs": [
        {
          "output_type": "stream",
          "name": "stdout",
          "text": [
            "[[83  1]\n",
            " [29  4]]\n",
            "              precision    recall  f1-score   support\n",
            "\n",
            "         1.0       0.74      0.99      0.85        84\n",
            "         2.0       0.80      0.12      0.21        33\n",
            "\n",
            "    accuracy                           0.74       117\n",
            "   macro avg       0.77      0.55      0.53       117\n",
            "weighted avg       0.76      0.74      0.67       117\n",
            "\n"
          ]
        }
      ]
    },
    {
      "cell_type": "markdown",
      "source": [
        "#Tree decision classifier"
      ],
      "metadata": {
        "id": "8xTiiy6e5vbi"
      }
    },
    {
      "cell_type": "code",
      "source": [
        "clfd = DecisionTreeClassifier(random_state=0)\n",
        "clfd.fit(X_train, y_train)\n",
        "clfd.score(X_test, y_test)"
      ],
      "metadata": {
        "colab": {
          "base_uri": "https://localhost:8080/"
        },
        "id": "gl5wzvMY5k3T",
        "outputId": "2958e44a-32e8-44ed-ba1f-9dd31d86fef8"
      },
      "execution_count": 19,
      "outputs": [
        {
          "output_type": "execute_result",
          "data": {
            "text/plain": [
              "0.6581196581196581"
            ]
          },
          "metadata": {},
          "execution_count": 19
        }
      ]
    },
    {
      "cell_type": "code",
      "source": [
        "y_pred = clfd.predict(X_test)\n",
        "print(confusion_matrix(y_test,y_pred))\n",
        "print(classification_report(y_test, y_pred))"
      ],
      "metadata": {
        "colab": {
          "base_uri": "https://localhost:8080/"
        },
        "id": "rYmcRcMZ5oDn",
        "outputId": "3cb77863-d9dc-4bbd-93a2-28345f525849"
      },
      "execution_count": 20,
      "outputs": [
        {
          "output_type": "stream",
          "name": "stdout",
          "text": [
            "[[67 17]\n",
            " [23 10]]\n",
            "              precision    recall  f1-score   support\n",
            "\n",
            "         1.0       0.74      0.80      0.77        84\n",
            "         2.0       0.37      0.30      0.33        33\n",
            "\n",
            "    accuracy                           0.66       117\n",
            "   macro avg       0.56      0.55      0.55       117\n",
            "weighted avg       0.64      0.66      0.65       117\n",
            "\n"
          ]
        }
      ]
    },
    {
      "cell_type": "markdown",
      "source": [
        "#Random forest classifier"
      ],
      "metadata": {
        "id": "my8Mp9Mw50W7"
      }
    },
    {
      "cell_type": "code",
      "source": [
        "rfc = RandomForestClassifier(random_state=0)\n",
        "rfc.fit(X_train, y_train)\n",
        "rfc.score(X_test, y_test)"
      ],
      "metadata": {
        "colab": {
          "base_uri": "https://localhost:8080/"
        },
        "id": "2llwRsS45qJ1",
        "outputId": "90df8c97-71dd-4474-8bb7-04f0a4000513"
      },
      "execution_count": 21,
      "outputs": [
        {
          "output_type": "stream",
          "name": "stderr",
          "text": [
            "<ipython-input-21-6e735ae22e0c>:2: DataConversionWarning: A column-vector y was passed when a 1d array was expected. Please change the shape of y to (n_samples,), for example using ravel().\n",
            "  rfc.fit(X_train, y_train)\n"
          ]
        },
        {
          "output_type": "execute_result",
          "data": {
            "text/plain": [
              "0.6923076923076923"
            ]
          },
          "metadata": {},
          "execution_count": 21
        }
      ]
    },
    {
      "cell_type": "code",
      "source": [
        "y_pred=rfc.predict(X_test)\n",
        "print(confusion_matrix(y_test,y_pred))\n",
        "print(classification_report(y_test, y_pred))"
      ],
      "metadata": {
        "colab": {
          "base_uri": "https://localhost:8080/"
        },
        "id": "SbIv_ZAw5r7P",
        "outputId": "414ec0e8-a7b7-4217-b788-4b78ae85bf5a"
      },
      "execution_count": 22,
      "outputs": [
        {
          "output_type": "stream",
          "name": "stdout",
          "text": [
            "[[72 12]\n",
            " [24  9]]\n",
            "              precision    recall  f1-score   support\n",
            "\n",
            "         1.0       0.75      0.86      0.80        84\n",
            "         2.0       0.43      0.27      0.33        33\n",
            "\n",
            "    accuracy                           0.69       117\n",
            "   macro avg       0.59      0.56      0.57       117\n",
            "weighted avg       0.66      0.69      0.67       117\n",
            "\n"
          ]
        }
      ]
    },
    {
      "cell_type": "markdown",
      "source": [
        "#ANN - Artificial Neural Networks"
      ],
      "metadata": {
        "id": "6NbE-mEz522r"
      }
    },
    {
      "cell_type": "code",
      "source": [
        "from sklearn.preprocessing import MinMaxScaler #normalising the data\n",
        "scaler_x = MinMaxScaler()\n",
        "scaler_y = MinMaxScaler()\n",
        "scaler_x.fit(X)\n",
        "xscale=scaler_x.transform(X)\n",
        "scaler_y.fit(Y)\n",
        "yscale=scaler_y.transform(Y)\n",
        "yscale\n",
        "xscale"
      ],
      "metadata": {
        "id": "JU80pVQuOmll",
        "colab": {
          "base_uri": "https://localhost:8080/"
        },
        "outputId": "b9090bc3-5034-4706-97e6-9b18d6c974e4"
      },
      "execution_count": 23,
      "outputs": [
        {
          "output_type": "execute_result",
          "data": {
            "text/plain": [
              "array([[0.00402145, 0.        , 0.06057645, ..., 0.5942029 , 0.52173913,\n",
              "        0.24      ],\n",
              "       [0.14075067, 0.2755102 , 0.31069858, ..., 0.69565217, 0.5       ,\n",
              "        0.176     ],\n",
              "       [0.0924933 , 0.20408163, 0.20859795, ..., 0.62318841, 0.52173913,\n",
              "        0.236     ],\n",
              "       ...,\n",
              "       [0.00536193, 0.00510204, 0.0889106 , ..., 0.53623188, 0.5       ,\n",
              "        0.28      ],\n",
              "       [0.01206434, 0.02040816, 0.05911089, ..., 0.5942029 , 0.54347826,\n",
              "        0.28      ],\n",
              "       [0.0080429 , 0.01020408, 0.07474353, ..., 0.66666667, 0.76086957,\n",
              "        0.48      ]])"
            ]
          },
          "metadata": {},
          "execution_count": 23
        }
      ]
    },
    {
      "cell_type": "code",
      "source": [
        "X_train, X_test, y_train, y_test = train_test_split(xscale, yscale, test_size=0.2,random_state=3)\n",
        "\n",
        "X_test.shape\n",
        "X_train.shape"
      ],
      "metadata": {
        "colab": {
          "base_uri": "https://localhost:8080/"
        },
        "id": "p6F5HhPkOvMK",
        "outputId": "c6273d8c-a9cb-4dcf-d7bd-4dd47afcbcb6"
      },
      "execution_count": 24,
      "outputs": [
        {
          "output_type": "execute_result",
          "data": {
            "text/plain": [
              "(466, 8)"
            ]
          },
          "metadata": {},
          "execution_count": 24
        }
      ]
    },
    {
      "cell_type": "code",
      "source": [
        "model = Sequential()\n",
        "model.add(Dense(12, input_dim=8, activation='relu'))\n",
        "model.add(Dense(8, activation='relu'))\n",
        "model.add(Dense(1, activation='sigmoid'))\n",
        "model.summary()"
      ],
      "metadata": {
        "colab": {
          "base_uri": "https://localhost:8080/"
        },
        "id": "urEPAzAQO1LA",
        "outputId": "fefc8764-fb95-4b6e-f2f9-5fe78dad7c7f"
      },
      "execution_count": 25,
      "outputs": [
        {
          "output_type": "stream",
          "name": "stdout",
          "text": [
            "Model: \"sequential\"\n",
            "_________________________________________________________________\n",
            "Layer (type)                 Output Shape              Param #   \n",
            "=================================================================\n",
            "dense (Dense)                (None, 12)                108       \n",
            "_________________________________________________________________\n",
            "dense_1 (Dense)              (None, 8)                 104       \n",
            "_________________________________________________________________\n",
            "dense_2 (Dense)              (None, 1)                 9         \n",
            "=================================================================\n",
            "Total params: 221\n",
            "Trainable params: 221\n",
            "Non-trainable params: 0\n",
            "_________________________________________________________________\n"
          ]
        }
      ]
    },
    {
      "cell_type": "code",
      "source": [
        "model.compile(loss='binary_crossentropy', optimizer='adam', metrics=['accuracy'])"
      ],
      "metadata": {
        "id": "HFyshhLOO7jB"
      },
      "execution_count": 26,
      "outputs": []
    },
    {
      "cell_type": "code",
      "source": [
        "history = model.fit(X_train, y_train, epochs=150, batch_size=10,  verbose=1, validation_split=0.2, shuffle=True)"
      ],
      "metadata": {
        "colab": {
          "base_uri": "https://localhost:8080/"
        },
        "id": "PYqcBAfDPeEK",
        "outputId": "3c3580f5-1a2a-45e1-84a8-32ca95188806"
      },
      "execution_count": 27,
      "outputs": [
        {
          "output_type": "stream",
          "name": "stdout",
          "text": [
            "Epoch 1/150\n",
            "38/38 [==============================] - 1s 8ms/step - loss: 0.6946 - accuracy: 0.5108 - val_loss: 0.6671 - val_accuracy: 0.6596\n",
            "Epoch 2/150\n",
            "38/38 [==============================] - 0s 3ms/step - loss: 0.6503 - accuracy: 0.7070 - val_loss: 0.6338 - val_accuracy: 0.7128\n",
            "Epoch 3/150\n",
            "38/38 [==============================] - 0s 3ms/step - loss: 0.6275 - accuracy: 0.7124 - val_loss: 0.6142 - val_accuracy: 0.7128\n",
            "Epoch 4/150\n",
            "38/38 [==============================] - 0s 3ms/step - loss: 0.6138 - accuracy: 0.7124 - val_loss: 0.6007 - val_accuracy: 0.7128\n",
            "Epoch 5/150\n",
            "38/38 [==============================] - 0s 3ms/step - loss: 0.6050 - accuracy: 0.7124 - val_loss: 0.5916 - val_accuracy: 0.7128\n",
            "Epoch 6/150\n",
            "38/38 [==============================] - 0s 3ms/step - loss: 0.5975 - accuracy: 0.7124 - val_loss: 0.5823 - val_accuracy: 0.7128\n",
            "Epoch 7/150\n",
            "38/38 [==============================] - 0s 3ms/step - loss: 0.5909 - accuracy: 0.7124 - val_loss: 0.5759 - val_accuracy: 0.7128\n",
            "Epoch 8/150\n",
            "38/38 [==============================] - 0s 3ms/step - loss: 0.5848 - accuracy: 0.7124 - val_loss: 0.5677 - val_accuracy: 0.7128\n",
            "Epoch 9/150\n",
            "38/38 [==============================] - 0s 3ms/step - loss: 0.5789 - accuracy: 0.7124 - val_loss: 0.5606 - val_accuracy: 0.7128\n",
            "Epoch 10/150\n",
            "38/38 [==============================] - 0s 3ms/step - loss: 0.5741 - accuracy: 0.7124 - val_loss: 0.5539 - val_accuracy: 0.7128\n",
            "Epoch 11/150\n",
            "38/38 [==============================] - 0s 3ms/step - loss: 0.5680 - accuracy: 0.7124 - val_loss: 0.5481 - val_accuracy: 0.7128\n",
            "Epoch 12/150\n",
            "38/38 [==============================] - 0s 3ms/step - loss: 0.5624 - accuracy: 0.7124 - val_loss: 0.5427 - val_accuracy: 0.7128\n",
            "Epoch 13/150\n",
            "38/38 [==============================] - 0s 3ms/step - loss: 0.5570 - accuracy: 0.7124 - val_loss: 0.5390 - val_accuracy: 0.7128\n",
            "Epoch 14/150\n",
            "38/38 [==============================] - 0s 3ms/step - loss: 0.5540 - accuracy: 0.7124 - val_loss: 0.5350 - val_accuracy: 0.7128\n",
            "Epoch 15/150\n",
            "38/38 [==============================] - 0s 3ms/step - loss: 0.5493 - accuracy: 0.7124 - val_loss: 0.5327 - val_accuracy: 0.7128\n",
            "Epoch 16/150\n",
            "38/38 [==============================] - 0s 3ms/step - loss: 0.5465 - accuracy: 0.7124 - val_loss: 0.5302 - val_accuracy: 0.7128\n",
            "Epoch 17/150\n",
            "38/38 [==============================] - 0s 3ms/step - loss: 0.5450 - accuracy: 0.7124 - val_loss: 0.5285 - val_accuracy: 0.7128\n",
            "Epoch 18/150\n",
            "38/38 [==============================] - 0s 3ms/step - loss: 0.5404 - accuracy: 0.7124 - val_loss: 0.5264 - val_accuracy: 0.7128\n",
            "Epoch 19/150\n",
            "38/38 [==============================] - 0s 3ms/step - loss: 0.5401 - accuracy: 0.7124 - val_loss: 0.5251 - val_accuracy: 0.7128\n",
            "Epoch 20/150\n",
            "38/38 [==============================] - 0s 4ms/step - loss: 0.5390 - accuracy: 0.7124 - val_loss: 0.5231 - val_accuracy: 0.7128\n",
            "Epoch 21/150\n",
            "38/38 [==============================] - 0s 3ms/step - loss: 0.5367 - accuracy: 0.7124 - val_loss: 0.5217 - val_accuracy: 0.7128\n",
            "Epoch 22/150\n",
            "38/38 [==============================] - 0s 3ms/step - loss: 0.5347 - accuracy: 0.7124 - val_loss: 0.5205 - val_accuracy: 0.7128\n",
            "Epoch 23/150\n",
            "38/38 [==============================] - 0s 3ms/step - loss: 0.5331 - accuracy: 0.7124 - val_loss: 0.5193 - val_accuracy: 0.7128\n",
            "Epoch 24/150\n",
            "38/38 [==============================] - 0s 3ms/step - loss: 0.5313 - accuracy: 0.7124 - val_loss: 0.5184 - val_accuracy: 0.7128\n",
            "Epoch 25/150\n",
            "38/38 [==============================] - 0s 3ms/step - loss: 0.5302 - accuracy: 0.7124 - val_loss: 0.5174 - val_accuracy: 0.7128\n",
            "Epoch 26/150\n",
            "38/38 [==============================] - 0s 3ms/step - loss: 0.5290 - accuracy: 0.7124 - val_loss: 0.5162 - val_accuracy: 0.7128\n",
            "Epoch 27/150\n",
            "38/38 [==============================] - 0s 3ms/step - loss: 0.5283 - accuracy: 0.7124 - val_loss: 0.5154 - val_accuracy: 0.7128\n",
            "Epoch 28/150\n",
            "38/38 [==============================] - 0s 3ms/step - loss: 0.5279 - accuracy: 0.7124 - val_loss: 0.5147 - val_accuracy: 0.7128\n",
            "Epoch 29/150\n",
            "38/38 [==============================] - 0s 3ms/step - loss: 0.5272 - accuracy: 0.7124 - val_loss: 0.5142 - val_accuracy: 0.7128\n",
            "Epoch 30/150\n",
            "38/38 [==============================] - 0s 3ms/step - loss: 0.5256 - accuracy: 0.7124 - val_loss: 0.5139 - val_accuracy: 0.7128\n",
            "Epoch 31/150\n",
            "38/38 [==============================] - 0s 3ms/step - loss: 0.5250 - accuracy: 0.7124 - val_loss: 0.5132 - val_accuracy: 0.7128\n",
            "Epoch 32/150\n",
            "38/38 [==============================] - 0s 3ms/step - loss: 0.5244 - accuracy: 0.7151 - val_loss: 0.5127 - val_accuracy: 0.7128\n",
            "Epoch 33/150\n",
            "38/38 [==============================] - 0s 3ms/step - loss: 0.5252 - accuracy: 0.7177 - val_loss: 0.5121 - val_accuracy: 0.7128\n",
            "Epoch 34/150\n",
            "38/38 [==============================] - 0s 3ms/step - loss: 0.5241 - accuracy: 0.7151 - val_loss: 0.5116 - val_accuracy: 0.7021\n",
            "Epoch 35/150\n",
            "38/38 [==============================] - 0s 3ms/step - loss: 0.5242 - accuracy: 0.7177 - val_loss: 0.5110 - val_accuracy: 0.7021\n",
            "Epoch 36/150\n",
            "38/38 [==============================] - 0s 3ms/step - loss: 0.5218 - accuracy: 0.7204 - val_loss: 0.5103 - val_accuracy: 0.7128\n",
            "Epoch 37/150\n",
            "38/38 [==============================] - 0s 3ms/step - loss: 0.5237 - accuracy: 0.7124 - val_loss: 0.5096 - val_accuracy: 0.7128\n",
            "Epoch 38/150\n",
            "38/38 [==============================] - 0s 3ms/step - loss: 0.5220 - accuracy: 0.7124 - val_loss: 0.5094 - val_accuracy: 0.7021\n",
            "Epoch 39/150\n",
            "38/38 [==============================] - 0s 3ms/step - loss: 0.5212 - accuracy: 0.7204 - val_loss: 0.5091 - val_accuracy: 0.6809\n",
            "Epoch 40/150\n",
            "38/38 [==============================] - 0s 3ms/step - loss: 0.5205 - accuracy: 0.7204 - val_loss: 0.5084 - val_accuracy: 0.7128\n",
            "Epoch 41/150\n",
            "38/38 [==============================] - 0s 3ms/step - loss: 0.5199 - accuracy: 0.7177 - val_loss: 0.5080 - val_accuracy: 0.6809\n",
            "Epoch 42/150\n",
            "38/38 [==============================] - 0s 3ms/step - loss: 0.5200 - accuracy: 0.7177 - val_loss: 0.5075 - val_accuracy: 0.6809\n",
            "Epoch 43/150\n",
            "38/38 [==============================] - 0s 3ms/step - loss: 0.5192 - accuracy: 0.7204 - val_loss: 0.5070 - val_accuracy: 0.7021\n",
            "Epoch 44/150\n",
            "38/38 [==============================] - 0s 3ms/step - loss: 0.5196 - accuracy: 0.7177 - val_loss: 0.5067 - val_accuracy: 0.7234\n",
            "Epoch 45/150\n",
            "38/38 [==============================] - 0s 3ms/step - loss: 0.5206 - accuracy: 0.7177 - val_loss: 0.5060 - val_accuracy: 0.6915\n",
            "Epoch 46/150\n",
            "38/38 [==============================] - 0s 3ms/step - loss: 0.5180 - accuracy: 0.7177 - val_loss: 0.5055 - val_accuracy: 0.6809\n",
            "Epoch 47/150\n",
            "38/38 [==============================] - 0s 3ms/step - loss: 0.5179 - accuracy: 0.7151 - val_loss: 0.5052 - val_accuracy: 0.6809\n",
            "Epoch 48/150\n",
            "38/38 [==============================] - 0s 3ms/step - loss: 0.5181 - accuracy: 0.7043 - val_loss: 0.5059 - val_accuracy: 0.6596\n",
            "Epoch 49/150\n",
            "38/38 [==============================] - 0s 3ms/step - loss: 0.5184 - accuracy: 0.7151 - val_loss: 0.5046 - val_accuracy: 0.6809\n",
            "Epoch 50/150\n",
            "38/38 [==============================] - 0s 3ms/step - loss: 0.5172 - accuracy: 0.7070 - val_loss: 0.5043 - val_accuracy: 0.6809\n",
            "Epoch 51/150\n",
            "38/38 [==============================] - 0s 3ms/step - loss: 0.5169 - accuracy: 0.7124 - val_loss: 0.5046 - val_accuracy: 0.6809\n",
            "Epoch 52/150\n",
            "38/38 [==============================] - 0s 3ms/step - loss: 0.5160 - accuracy: 0.7070 - val_loss: 0.5040 - val_accuracy: 0.6809\n",
            "Epoch 53/150\n",
            "38/38 [==============================] - 0s 3ms/step - loss: 0.5169 - accuracy: 0.7043 - val_loss: 0.5042 - val_accuracy: 0.6596\n",
            "Epoch 54/150\n",
            "38/38 [==============================] - 0s 3ms/step - loss: 0.5158 - accuracy: 0.7097 - val_loss: 0.5032 - val_accuracy: 0.6809\n",
            "Epoch 55/150\n",
            "38/38 [==============================] - 0s 3ms/step - loss: 0.5201 - accuracy: 0.7177 - val_loss: 0.5027 - val_accuracy: 0.6702\n",
            "Epoch 56/150\n",
            "38/38 [==============================] - 0s 3ms/step - loss: 0.5152 - accuracy: 0.7151 - val_loss: 0.5022 - val_accuracy: 0.6915\n",
            "Epoch 57/150\n",
            "38/38 [==============================] - 0s 3ms/step - loss: 0.5159 - accuracy: 0.7151 - val_loss: 0.5022 - val_accuracy: 0.6702\n",
            "Epoch 58/150\n",
            "38/38 [==============================] - 0s 3ms/step - loss: 0.5149 - accuracy: 0.7124 - val_loss: 0.5019 - val_accuracy: 0.6702\n",
            "Epoch 59/150\n",
            "38/38 [==============================] - 0s 3ms/step - loss: 0.5152 - accuracy: 0.7124 - val_loss: 0.5017 - val_accuracy: 0.6915\n",
            "Epoch 60/150\n",
            "38/38 [==============================] - 0s 4ms/step - loss: 0.5144 - accuracy: 0.7151 - val_loss: 0.5013 - val_accuracy: 0.6702\n",
            "Epoch 61/150\n",
            "38/38 [==============================] - 0s 4ms/step - loss: 0.5150 - accuracy: 0.7124 - val_loss: 0.5014 - val_accuracy: 0.6702\n",
            "Epoch 62/150\n",
            "38/38 [==============================] - 0s 4ms/step - loss: 0.5138 - accuracy: 0.7124 - val_loss: 0.5008 - val_accuracy: 0.6915\n",
            "Epoch 63/150\n",
            "38/38 [==============================] - 0s 4ms/step - loss: 0.5140 - accuracy: 0.7097 - val_loss: 0.5009 - val_accuracy: 0.6702\n",
            "Epoch 64/150\n",
            "38/38 [==============================] - 0s 4ms/step - loss: 0.5137 - accuracy: 0.7151 - val_loss: 0.5004 - val_accuracy: 0.6702\n",
            "Epoch 65/150\n",
            "38/38 [==============================] - 0s 5ms/step - loss: 0.5139 - accuracy: 0.7124 - val_loss: 0.5008 - val_accuracy: 0.6702\n",
            "Epoch 66/150\n",
            "38/38 [==============================] - 0s 3ms/step - loss: 0.5149 - accuracy: 0.6989 - val_loss: 0.5005 - val_accuracy: 0.6702\n",
            "Epoch 67/150\n",
            "38/38 [==============================] - 0s 4ms/step - loss: 0.5133 - accuracy: 0.7124 - val_loss: 0.5002 - val_accuracy: 0.6702\n",
            "Epoch 68/150\n",
            "38/38 [==============================] - 0s 3ms/step - loss: 0.5135 - accuracy: 0.7204 - val_loss: 0.5000 - val_accuracy: 0.6915\n",
            "Epoch 69/150\n",
            "38/38 [==============================] - 0s 4ms/step - loss: 0.5119 - accuracy: 0.7177 - val_loss: 0.4999 - val_accuracy: 0.6702\n",
            "Epoch 70/150\n",
            "38/38 [==============================] - 0s 3ms/step - loss: 0.5124 - accuracy: 0.7124 - val_loss: 0.5000 - val_accuracy: 0.6702\n",
            "Epoch 71/150\n",
            "38/38 [==============================] - 0s 3ms/step - loss: 0.5125 - accuracy: 0.7070 - val_loss: 0.5002 - val_accuracy: 0.6809\n",
            "Epoch 72/150\n",
            "38/38 [==============================] - 0s 3ms/step - loss: 0.5132 - accuracy: 0.7151 - val_loss: 0.5003 - val_accuracy: 0.6702\n",
            "Epoch 73/150\n",
            "38/38 [==============================] - 0s 3ms/step - loss: 0.5117 - accuracy: 0.7124 - val_loss: 0.4995 - val_accuracy: 0.6702\n",
            "Epoch 74/150\n",
            "38/38 [==============================] - 0s 4ms/step - loss: 0.5132 - accuracy: 0.7151 - val_loss: 0.4994 - val_accuracy: 0.6915\n",
            "Epoch 75/150\n",
            "38/38 [==============================] - 0s 3ms/step - loss: 0.5132 - accuracy: 0.7016 - val_loss: 0.4995 - val_accuracy: 0.6702\n",
            "Epoch 76/150\n",
            "38/38 [==============================] - 0s 4ms/step - loss: 0.5113 - accuracy: 0.7070 - val_loss: 0.4988 - val_accuracy: 0.6702\n",
            "Epoch 77/150\n",
            "38/38 [==============================] - 0s 4ms/step - loss: 0.5117 - accuracy: 0.7124 - val_loss: 0.4991 - val_accuracy: 0.6702\n",
            "Epoch 78/150\n",
            "38/38 [==============================] - 0s 3ms/step - loss: 0.5109 - accuracy: 0.7097 - val_loss: 0.4990 - val_accuracy: 0.6915\n",
            "Epoch 79/150\n",
            "38/38 [==============================] - 0s 4ms/step - loss: 0.5115 - accuracy: 0.7070 - val_loss: 0.4993 - val_accuracy: 0.6702\n",
            "Epoch 80/150\n",
            "38/38 [==============================] - 0s 4ms/step - loss: 0.5106 - accuracy: 0.7177 - val_loss: 0.4994 - val_accuracy: 0.6702\n",
            "Epoch 81/150\n",
            "38/38 [==============================] - 0s 4ms/step - loss: 0.5108 - accuracy: 0.7070 - val_loss: 0.4987 - val_accuracy: 0.6702\n",
            "Epoch 82/150\n",
            "38/38 [==============================] - 0s 4ms/step - loss: 0.5111 - accuracy: 0.7070 - val_loss: 0.4983 - val_accuracy: 0.6702\n",
            "Epoch 83/150\n",
            "38/38 [==============================] - 0s 4ms/step - loss: 0.5106 - accuracy: 0.7177 - val_loss: 0.4993 - val_accuracy: 0.6809\n",
            "Epoch 84/150\n",
            "38/38 [==============================] - 0s 3ms/step - loss: 0.5111 - accuracy: 0.7043 - val_loss: 0.4983 - val_accuracy: 0.6702\n",
            "Epoch 85/150\n",
            "38/38 [==============================] - 0s 3ms/step - loss: 0.5093 - accuracy: 0.7124 - val_loss: 0.4986 - val_accuracy: 0.6809\n",
            "Epoch 86/150\n",
            "38/38 [==============================] - 0s 3ms/step - loss: 0.5118 - accuracy: 0.7097 - val_loss: 0.4978 - val_accuracy: 0.6702\n",
            "Epoch 87/150\n",
            "38/38 [==============================] - 0s 3ms/step - loss: 0.5104 - accuracy: 0.7043 - val_loss: 0.4980 - val_accuracy: 0.6596\n",
            "Epoch 88/150\n",
            "38/38 [==============================] - 0s 3ms/step - loss: 0.5101 - accuracy: 0.7097 - val_loss: 0.4974 - val_accuracy: 0.6702\n",
            "Epoch 89/150\n",
            "38/38 [==============================] - 0s 3ms/step - loss: 0.5090 - accuracy: 0.7097 - val_loss: 0.4977 - val_accuracy: 0.6702\n",
            "Epoch 90/150\n",
            "38/38 [==============================] - 0s 3ms/step - loss: 0.5097 - accuracy: 0.7124 - val_loss: 0.4979 - val_accuracy: 0.6809\n",
            "Epoch 91/150\n",
            "38/38 [==============================] - 0s 3ms/step - loss: 0.5103 - accuracy: 0.7016 - val_loss: 0.4976 - val_accuracy: 0.6702\n",
            "Epoch 92/150\n",
            "38/38 [==============================] - 0s 3ms/step - loss: 0.5112 - accuracy: 0.7097 - val_loss: 0.4970 - val_accuracy: 0.6702\n",
            "Epoch 93/150\n",
            "38/38 [==============================] - 0s 3ms/step - loss: 0.5092 - accuracy: 0.7124 - val_loss: 0.4974 - val_accuracy: 0.6702\n",
            "Epoch 94/150\n",
            "38/38 [==============================] - 0s 3ms/step - loss: 0.5096 - accuracy: 0.7124 - val_loss: 0.4972 - val_accuracy: 0.6702\n",
            "Epoch 95/150\n",
            "38/38 [==============================] - 0s 3ms/step - loss: 0.5102 - accuracy: 0.7204 - val_loss: 0.4969 - val_accuracy: 0.6809\n",
            "Epoch 96/150\n",
            "38/38 [==============================] - 0s 3ms/step - loss: 0.5100 - accuracy: 0.7177 - val_loss: 0.4974 - val_accuracy: 0.6915\n",
            "Epoch 97/150\n",
            "38/38 [==============================] - 0s 3ms/step - loss: 0.5088 - accuracy: 0.7070 - val_loss: 0.4969 - val_accuracy: 0.6702\n",
            "Epoch 98/150\n",
            "38/38 [==============================] - 0s 3ms/step - loss: 0.5085 - accuracy: 0.7124 - val_loss: 0.4973 - val_accuracy: 0.6809\n",
            "Epoch 99/150\n",
            "38/38 [==============================] - 0s 3ms/step - loss: 0.5081 - accuracy: 0.7097 - val_loss: 0.4969 - val_accuracy: 0.6596\n",
            "Epoch 100/150\n",
            "38/38 [==============================] - 0s 3ms/step - loss: 0.5074 - accuracy: 0.7097 - val_loss: 0.4965 - val_accuracy: 0.6702\n",
            "Epoch 101/150\n",
            "38/38 [==============================] - 0s 3ms/step - loss: 0.5085 - accuracy: 0.7124 - val_loss: 0.4966 - val_accuracy: 0.6702\n",
            "Epoch 102/150\n",
            "38/38 [==============================] - 0s 3ms/step - loss: 0.5072 - accuracy: 0.7151 - val_loss: 0.4966 - val_accuracy: 0.6809\n",
            "Epoch 103/150\n",
            "38/38 [==============================] - 0s 3ms/step - loss: 0.5074 - accuracy: 0.7151 - val_loss: 0.4965 - val_accuracy: 0.6702\n",
            "Epoch 104/150\n",
            "38/38 [==============================] - 0s 3ms/step - loss: 0.5074 - accuracy: 0.7124 - val_loss: 0.4964 - val_accuracy: 0.6915\n",
            "Epoch 105/150\n",
            "38/38 [==============================] - 0s 3ms/step - loss: 0.5077 - accuracy: 0.7151 - val_loss: 0.4958 - val_accuracy: 0.6915\n",
            "Epoch 106/150\n",
            "38/38 [==============================] - 0s 3ms/step - loss: 0.5079 - accuracy: 0.7070 - val_loss: 0.4958 - val_accuracy: 0.6809\n",
            "Epoch 107/150\n",
            "38/38 [==============================] - 0s 3ms/step - loss: 0.5078 - accuracy: 0.7204 - val_loss: 0.4952 - val_accuracy: 0.6915\n",
            "Epoch 108/150\n",
            "38/38 [==============================] - 0s 3ms/step - loss: 0.5073 - accuracy: 0.7204 - val_loss: 0.4955 - val_accuracy: 0.6702\n",
            "Epoch 109/150\n",
            "38/38 [==============================] - 0s 3ms/step - loss: 0.5077 - accuracy: 0.7097 - val_loss: 0.4957 - val_accuracy: 0.6702\n",
            "Epoch 110/150\n",
            "38/38 [==============================] - 0s 3ms/step - loss: 0.5085 - accuracy: 0.7151 - val_loss: 0.4954 - val_accuracy: 0.6702\n",
            "Epoch 111/150\n",
            "38/38 [==============================] - 0s 3ms/step - loss: 0.5065 - accuracy: 0.7097 - val_loss: 0.4957 - val_accuracy: 0.6809\n",
            "Epoch 112/150\n",
            "38/38 [==============================] - 0s 3ms/step - loss: 0.5063 - accuracy: 0.7124 - val_loss: 0.4956 - val_accuracy: 0.6809\n",
            "Epoch 113/150\n",
            "38/38 [==============================] - 0s 3ms/step - loss: 0.5061 - accuracy: 0.7151 - val_loss: 0.4958 - val_accuracy: 0.6809\n",
            "Epoch 114/150\n",
            "38/38 [==============================] - 0s 3ms/step - loss: 0.5062 - accuracy: 0.7124 - val_loss: 0.4955 - val_accuracy: 0.6809\n",
            "Epoch 115/150\n",
            "38/38 [==============================] - 0s 3ms/step - loss: 0.5060 - accuracy: 0.7204 - val_loss: 0.4958 - val_accuracy: 0.6809\n",
            "Epoch 116/150\n",
            "38/38 [==============================] - 0s 3ms/step - loss: 0.5058 - accuracy: 0.7097 - val_loss: 0.4951 - val_accuracy: 0.6809\n",
            "Epoch 117/150\n",
            "38/38 [==============================] - 0s 3ms/step - loss: 0.5065 - accuracy: 0.7177 - val_loss: 0.4957 - val_accuracy: 0.6702\n",
            "Epoch 118/150\n",
            "38/38 [==============================] - 0s 3ms/step - loss: 0.5061 - accuracy: 0.7177 - val_loss: 0.4954 - val_accuracy: 0.6915\n",
            "Epoch 119/150\n",
            "38/38 [==============================] - 0s 3ms/step - loss: 0.5056 - accuracy: 0.7258 - val_loss: 0.4956 - val_accuracy: 0.6809\n",
            "Epoch 120/150\n",
            "38/38 [==============================] - 0s 3ms/step - loss: 0.5058 - accuracy: 0.7204 - val_loss: 0.4950 - val_accuracy: 0.6915\n",
            "Epoch 121/150\n",
            "38/38 [==============================] - 0s 3ms/step - loss: 0.5058 - accuracy: 0.7285 - val_loss: 0.4947 - val_accuracy: 0.6809\n",
            "Epoch 122/150\n",
            "38/38 [==============================] - 0s 3ms/step - loss: 0.5073 - accuracy: 0.7070 - val_loss: 0.4958 - val_accuracy: 0.6702\n",
            "Epoch 123/150\n",
            "38/38 [==============================] - 0s 3ms/step - loss: 0.5061 - accuracy: 0.7204 - val_loss: 0.4951 - val_accuracy: 0.6915\n",
            "Epoch 124/150\n",
            "38/38 [==============================] - 0s 3ms/step - loss: 0.5071 - accuracy: 0.7285 - val_loss: 0.4952 - val_accuracy: 0.6915\n",
            "Epoch 125/150\n",
            "38/38 [==============================] - 0s 3ms/step - loss: 0.5073 - accuracy: 0.7285 - val_loss: 0.4949 - val_accuracy: 0.6915\n",
            "Epoch 126/150\n",
            "38/38 [==============================] - 0s 3ms/step - loss: 0.5063 - accuracy: 0.7151 - val_loss: 0.4952 - val_accuracy: 0.6809\n",
            "Epoch 127/150\n",
            "38/38 [==============================] - 0s 3ms/step - loss: 0.5053 - accuracy: 0.7177 - val_loss: 0.4953 - val_accuracy: 0.6809\n",
            "Epoch 128/150\n",
            "38/38 [==============================] - 0s 3ms/step - loss: 0.5076 - accuracy: 0.7151 - val_loss: 0.4945 - val_accuracy: 0.6809\n",
            "Epoch 129/150\n",
            "38/38 [==============================] - 0s 3ms/step - loss: 0.5081 - accuracy: 0.7231 - val_loss: 0.4941 - val_accuracy: 0.6915\n",
            "Epoch 130/150\n",
            "38/38 [==============================] - 0s 3ms/step - loss: 0.5047 - accuracy: 0.7124 - val_loss: 0.4940 - val_accuracy: 0.6702\n",
            "Epoch 131/150\n",
            "38/38 [==============================] - 0s 3ms/step - loss: 0.5044 - accuracy: 0.7151 - val_loss: 0.4946 - val_accuracy: 0.6915\n",
            "Epoch 132/150\n",
            "38/38 [==============================] - 0s 3ms/step - loss: 0.5054 - accuracy: 0.7312 - val_loss: 0.4942 - val_accuracy: 0.6809\n",
            "Epoch 133/150\n",
            "38/38 [==============================] - 0s 3ms/step - loss: 0.5041 - accuracy: 0.7285 - val_loss: 0.4939 - val_accuracy: 0.6915\n",
            "Epoch 134/150\n",
            "38/38 [==============================] - 0s 3ms/step - loss: 0.5038 - accuracy: 0.7339 - val_loss: 0.4943 - val_accuracy: 0.6702\n",
            "Epoch 135/150\n",
            "38/38 [==============================] - 0s 3ms/step - loss: 0.5049 - accuracy: 0.7124 - val_loss: 0.4939 - val_accuracy: 0.6809\n",
            "Epoch 136/150\n",
            "38/38 [==============================] - 0s 3ms/step - loss: 0.5047 - accuracy: 0.7097 - val_loss: 0.4938 - val_accuracy: 0.6915\n",
            "Epoch 137/150\n",
            "38/38 [==============================] - 0s 2ms/step - loss: 0.5041 - accuracy: 0.7312 - val_loss: 0.4936 - val_accuracy: 0.6809\n",
            "Epoch 138/150\n",
            "38/38 [==============================] - 0s 3ms/step - loss: 0.5040 - accuracy: 0.7231 - val_loss: 0.4935 - val_accuracy: 0.6809\n",
            "Epoch 139/150\n",
            "38/38 [==============================] - 0s 3ms/step - loss: 0.5063 - accuracy: 0.7097 - val_loss: 0.4934 - val_accuracy: 0.6809\n",
            "Epoch 140/150\n",
            "38/38 [==============================] - 0s 3ms/step - loss: 0.5063 - accuracy: 0.7151 - val_loss: 0.4939 - val_accuracy: 0.6809\n",
            "Epoch 141/150\n",
            "38/38 [==============================] - 0s 3ms/step - loss: 0.5041 - accuracy: 0.7177 - val_loss: 0.4935 - val_accuracy: 0.6809\n",
            "Epoch 142/150\n",
            "38/38 [==============================] - 0s 3ms/step - loss: 0.5044 - accuracy: 0.7231 - val_loss: 0.4940 - val_accuracy: 0.6809\n",
            "Epoch 143/150\n",
            "38/38 [==============================] - 0s 3ms/step - loss: 0.5034 - accuracy: 0.7258 - val_loss: 0.4942 - val_accuracy: 0.6809\n",
            "Epoch 144/150\n",
            "38/38 [==============================] - 0s 3ms/step - loss: 0.5043 - accuracy: 0.7231 - val_loss: 0.4939 - val_accuracy: 0.6809\n",
            "Epoch 145/150\n",
            "38/38 [==============================] - 0s 3ms/step - loss: 0.5031 - accuracy: 0.7204 - val_loss: 0.4942 - val_accuracy: 0.6809\n",
            "Epoch 146/150\n",
            "38/38 [==============================] - 0s 3ms/step - loss: 0.5031 - accuracy: 0.7204 - val_loss: 0.4934 - val_accuracy: 0.6809\n",
            "Epoch 147/150\n",
            "38/38 [==============================] - 0s 3ms/step - loss: 0.5034 - accuracy: 0.7258 - val_loss: 0.4939 - val_accuracy: 0.6809\n",
            "Epoch 148/150\n",
            "38/38 [==============================] - 0s 3ms/step - loss: 0.5033 - accuracy: 0.7258 - val_loss: 0.4941 - val_accuracy: 0.6915\n",
            "Epoch 149/150\n",
            "38/38 [==============================] - 0s 3ms/step - loss: 0.5034 - accuracy: 0.7151 - val_loss: 0.4938 - val_accuracy: 0.6809\n",
            "Epoch 150/150\n",
            "38/38 [==============================] - 0s 3ms/step - loss: 0.5038 - accuracy: 0.7231 - val_loss: 0.4941 - val_accuracy: 0.6915\n"
          ]
        }
      ]
    },
    {
      "cell_type": "code",
      "source": [
        "print(history.history.keys())"
      ],
      "metadata": {
        "colab": {
          "base_uri": "https://localhost:8080/"
        },
        "id": "fw3wZQ5_PkYr",
        "outputId": "17c08ee3-d06d-4f95-997f-349fde5cc7e8"
      },
      "execution_count": 28,
      "outputs": [
        {
          "output_type": "stream",
          "name": "stdout",
          "text": [
            "dict_keys(['loss', 'accuracy', 'val_loss', 'val_accuracy'])\n"
          ]
        }
      ]
    },
    {
      "cell_type": "code",
      "source": [
        "evalu =model.evaluate(X_train,y_train)\n",
        "print(model.metrics_names[1], evalu[1]*100)"
      ],
      "metadata": {
        "colab": {
          "base_uri": "https://localhost:8080/"
        },
        "id": "7eD2Gq39Pm70",
        "outputId": "54d0e4dc-36f7-40e1-87ed-b4fa8289b8cf"
      },
      "execution_count": 29,
      "outputs": [
        {
          "output_type": "stream",
          "name": "stdout",
          "text": [
            "15/15 [==============================] - 0s 2ms/step - loss: 0.5004 - accuracy: 0.7210\n",
            "accuracy 72.1030056476593\n"
          ]
        }
      ]
    },
    {
      "cell_type": "code",
      "source": [
        "evalu =model.evaluate(X_test,y_test)\n",
        "print(model.metrics_names[1], evalu[1]*100)"
      ],
      "metadata": {
        "colab": {
          "base_uri": "https://localhost:8080/"
        },
        "id": "UBzsf5ccPoy3",
        "outputId": "b743da27-4453-46c0-847d-c08e2f1808aa"
      },
      "execution_count": 30,
      "outputs": [
        {
          "output_type": "stream",
          "name": "stdout",
          "text": [
            "4/4 [==============================] - 0s 3ms/step - loss: 0.4928 - accuracy: 0.7521\n",
            "accuracy 75.2136766910553\n"
          ]
        }
      ]
    },
    {
      "cell_type": "code",
      "source": [
        "from sklearn.metrics import accuracy_score\n",
        "yhat= model.predict(X_test)\n",
        "\n",
        "yhat\n",
        "y_test"
      ],
      "metadata": {
        "colab": {
          "base_uri": "https://localhost:8080/"
        },
        "id": "A5_U6SrLPqmr",
        "outputId": "8e5215ac-8fb7-4d23-9c38-75152856c84a"
      },
      "execution_count": 31,
      "outputs": [
        {
          "output_type": "execute_result",
          "data": {
            "text/plain": [
              "array([[1.],\n",
              "       [1.],\n",
              "       [0.],\n",
              "       [0.],\n",
              "       [1.],\n",
              "       [0.],\n",
              "       [0.],\n",
              "       [1.],\n",
              "       [0.],\n",
              "       [0.],\n",
              "       [1.],\n",
              "       [0.],\n",
              "       [1.],\n",
              "       [0.],\n",
              "       [0.],\n",
              "       [0.],\n",
              "       [0.],\n",
              "       [0.],\n",
              "       [0.],\n",
              "       [1.],\n",
              "       [1.],\n",
              "       [0.],\n",
              "       [0.],\n",
              "       [0.],\n",
              "       [0.],\n",
              "       [0.],\n",
              "       [1.],\n",
              "       [1.],\n",
              "       [0.],\n",
              "       [0.],\n",
              "       [0.],\n",
              "       [0.],\n",
              "       [0.],\n",
              "       [1.],\n",
              "       [0.],\n",
              "       [0.],\n",
              "       [0.],\n",
              "       [0.],\n",
              "       [1.],\n",
              "       [0.],\n",
              "       [0.],\n",
              "       [0.],\n",
              "       [0.],\n",
              "       [0.],\n",
              "       [0.],\n",
              "       [1.],\n",
              "       [1.],\n",
              "       [1.],\n",
              "       [0.],\n",
              "       [0.],\n",
              "       [0.],\n",
              "       [0.],\n",
              "       [1.],\n",
              "       [1.],\n",
              "       [0.],\n",
              "       [0.],\n",
              "       [1.],\n",
              "       [0.],\n",
              "       [0.],\n",
              "       [0.],\n",
              "       [0.],\n",
              "       [1.],\n",
              "       [0.],\n",
              "       [1.],\n",
              "       [0.],\n",
              "       [0.],\n",
              "       [0.],\n",
              "       [1.],\n",
              "       [0.],\n",
              "       [0.],\n",
              "       [0.],\n",
              "       [1.],\n",
              "       [0.],\n",
              "       [0.],\n",
              "       [0.],\n",
              "       [0.],\n",
              "       [1.],\n",
              "       [0.],\n",
              "       [0.],\n",
              "       [1.],\n",
              "       [1.],\n",
              "       [0.],\n",
              "       [0.],\n",
              "       [0.],\n",
              "       [0.],\n",
              "       [0.],\n",
              "       [0.],\n",
              "       [1.],\n",
              "       [1.],\n",
              "       [0.],\n",
              "       [0.],\n",
              "       [0.],\n",
              "       [0.],\n",
              "       [0.],\n",
              "       [0.],\n",
              "       [0.],\n",
              "       [0.],\n",
              "       [0.],\n",
              "       [0.],\n",
              "       [0.],\n",
              "       [1.],\n",
              "       [0.],\n",
              "       [1.],\n",
              "       [0.],\n",
              "       [0.],\n",
              "       [1.],\n",
              "       [0.],\n",
              "       [0.],\n",
              "       [0.],\n",
              "       [0.],\n",
              "       [1.],\n",
              "       [1.],\n",
              "       [0.],\n",
              "       [0.],\n",
              "       [0.],\n",
              "       [0.],\n",
              "       [1.]])"
            ]
          },
          "metadata": {},
          "execution_count": 31
        }
      ]
    },
    {
      "cell_type": "code",
      "source": [
        "ypred=[]\n",
        "for i in yhat:\n",
        "    if i > 0.5:\n",
        "        ypred.append(1.0)\n",
        "    else:\n",
        "        ypred.append(0.0)\n",
        "ypred"
      ],
      "metadata": {
        "colab": {
          "base_uri": "https://localhost:8080/"
        },
        "id": "hqGhPuQyPumR",
        "outputId": "4e3a932b-f3a3-4d0d-d4aa-b784ceaeff74"
      },
      "execution_count": 32,
      "outputs": [
        {
          "output_type": "execute_result",
          "data": {
            "text/plain": [
              "[0.0,\n",
              " 0.0,\n",
              " 0.0,\n",
              " 0.0,\n",
              " 0.0,\n",
              " 0.0,\n",
              " 0.0,\n",
              " 0.0,\n",
              " 0.0,\n",
              " 0.0,\n",
              " 0.0,\n",
              " 0.0,\n",
              " 1.0,\n",
              " 0.0,\n",
              " 0.0,\n",
              " 0.0,\n",
              " 0.0,\n",
              " 0.0,\n",
              " 0.0,\n",
              " 1.0,\n",
              " 0.0,\n",
              " 0.0,\n",
              " 0.0,\n",
              " 0.0,\n",
              " 0.0,\n",
              " 0.0,\n",
              " 0.0,\n",
              " 0.0,\n",
              " 0.0,\n",
              " 0.0,\n",
              " 0.0,\n",
              " 0.0,\n",
              " 0.0,\n",
              " 0.0,\n",
              " 1.0,\n",
              " 0.0,\n",
              " 0.0,\n",
              " 0.0,\n",
              " 0.0,\n",
              " 1.0,\n",
              " 0.0,\n",
              " 0.0,\n",
              " 1.0,\n",
              " 0.0,\n",
              " 0.0,\n",
              " 0.0,\n",
              " 0.0,\n",
              " 0.0,\n",
              " 1.0,\n",
              " 0.0,\n",
              " 0.0,\n",
              " 0.0,\n",
              " 1.0,\n",
              " 0.0,\n",
              " 0.0,\n",
              " 0.0,\n",
              " 1.0,\n",
              " 1.0,\n",
              " 0.0,\n",
              " 0.0,\n",
              " 0.0,\n",
              " 0.0,\n",
              " 0.0,\n",
              " 0.0,\n",
              " 0.0,\n",
              " 0.0,\n",
              " 0.0,\n",
              " 0.0,\n",
              " 0.0,\n",
              " 0.0,\n",
              " 0.0,\n",
              " 1.0,\n",
              " 0.0,\n",
              " 0.0,\n",
              " 0.0,\n",
              " 0.0,\n",
              " 1.0,\n",
              " 0.0,\n",
              " 0.0,\n",
              " 0.0,\n",
              " 1.0,\n",
              " 0.0,\n",
              " 0.0,\n",
              " 0.0,\n",
              " 0.0,\n",
              " 0.0,\n",
              " 0.0,\n",
              " 0.0,\n",
              " 1.0,\n",
              " 0.0,\n",
              " 0.0,\n",
              " 0.0,\n",
              " 0.0,\n",
              " 0.0,\n",
              " 0.0,\n",
              " 0.0,\n",
              " 0.0,\n",
              " 0.0,\n",
              " 0.0,\n",
              " 0.0,\n",
              " 0.0,\n",
              " 0.0,\n",
              " 0.0,\n",
              " 0.0,\n",
              " 0.0,\n",
              " 0.0,\n",
              " 0.0,\n",
              " 0.0,\n",
              " 0.0,\n",
              " 0.0,\n",
              " 0.0,\n",
              " 1.0,\n",
              " 0.0,\n",
              " 1.0,\n",
              " 0.0,\n",
              " 0.0,\n",
              " 1.0]"
            ]
          },
          "metadata": {},
          "execution_count": 32
        }
      ]
    },
    {
      "cell_type": "code",
      "source": [
        "acc_=accuracy_score(y_test,ypred)\n",
        "acc_"
      ],
      "metadata": {
        "colab": {
          "base_uri": "https://localhost:8080/"
        },
        "id": "VozqI2Q5Pxo2",
        "outputId": "2b42a751-aabe-42fb-9818-cc41b85da0d0"
      },
      "execution_count": 33,
      "outputs": [
        {
          "output_type": "execute_result",
          "data": {
            "text/plain": [
              "0.7521367521367521"
            ]
          },
          "metadata": {},
          "execution_count": 33
        }
      ]
    },
    {
      "cell_type": "code",
      "source": [
        "plt.plot(history.history['accuracy'])\n",
        "plt.plot(history.history['val_accuracy'])\n",
        "plt.title('model accuracy')\n",
        "plt.ylabel('accuracy')\n",
        "plt.xlabel('epoch')\n",
        "plt.legend(['train', 'val'], loc='upper left')\n",
        "plt.show()"
      ],
      "metadata": {
        "colab": {
          "base_uri": "https://localhost:8080/",
          "height": 472
        },
        "id": "LEn0SwjgPz_f",
        "outputId": "855c910f-ac31-44c3-fe36-0e7fe6874b36"
      },
      "execution_count": 34,
      "outputs": [
        {
          "output_type": "display_data",
          "data": {
            "text/plain": [
              "<Figure size 640x480 with 1 Axes>"
            ],
            "image/png": "[encoded data removed]"
          },
          "metadata": {}
        }
      ]
    },
    {
      "cell_type": "code",
      "source": [
        "plt.plot(history.history['loss'])\n",
        "plt.plot(history.history['val_loss'])\n",
        "plt.title('model loss')\n",
        "plt.ylabel('loss')\n",
        "plt.xlabel('epoch')\n",
        "plt.legend(['train', 'val'], loc='upper left')\n",
        "plt.show()"
      ],
      "metadata": {
        "colab": {
          "base_uri": "https://localhost:8080/",
          "height": 472
        },
        "id": "e2LYp4mTP4Je",
        "outputId": "cc1f0ca3-c5e6-4c5b-cd32-329e22686497"
      },
      "execution_count": 35,
      "outputs": [
        {
          "output_type": "display_data",
          "data": {
            "text/plain": [
              "<Figure size 640x480 with 1 Axes>"
            ],
            "image/png": "[encoded data removed]"
          },
          "metadata": {}
        }
      ]
    }
  ]
}